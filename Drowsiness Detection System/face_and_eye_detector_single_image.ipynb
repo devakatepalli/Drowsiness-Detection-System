{
 "cells": [
  {
   "cell_type": "code",
   "execution_count": null,
   "id": "bdf5bbd6",
   "metadata": {},
   "outputs": [],
   "source": [
    "'''This script uses OpenCV's haarcascade (face and eye cascade) to detect face\n",
    "and eyes in a given input image.'''\n",
    "\n",
    "#Import necessary libraries\n",
    "import cv2 as cv\n",
    "import numpy as np\n",
    "\n",
    "#Load face cascade and hair cascade from haarcascades folder\n",
    "face_cascade = cv.CascadeClassifier(\"haarcascades/haarcascade_frontalface_default.xml\")\n",
    "eye_cascade = cv.CascadeClassifier(\"haarcascades/haarcascade_eye.xml\")\n",
    "\n",
    "#Read image in img and convert it to grayscale and store in gray.\n",
    "#Image is converted to grayscale, as face cascade doesn't require to operate on coloured images.\n",
    "img = cv.imread('images/test.jpeg')\n",
    "gray = cv.cvtColor(img, cv.COLOR_BGR2GRAY)\n",
    "\n",
    "#Detect all faces in image.\n",
    "faces = face_cascade.detectMultiScale(gray, 1.3, 5)\n",
    "\n",
    "#Draw a rectangle over the face, and detect eyes in faces\n",
    "for (x,y,w,h) in faces:\n",
    "    cv.rectangle(img,(x,y),(x+w,y+h),(255,0,0),2)\n",
    "\n",
    "    #ROI is region of interest with area having face inside it.\n",
    "    roi_gray = gray[y:y+h, x:x+w]\n",
    "    roi_color = img[y:y+h, x:x+w]\n",
    "\n",
    "    #Detect eyes in face\n",
    "    eyes = eye_cascade.detectMultiScale(roi_gray)\n",
    "\n",
    "    for (ex,ey,ew,eh) in eyes:\n",
    "        cv.rectangle(roi_color,(ex,ey),(ex+ew,ey+eh),(0,255,0),2)\n",
    "\n",
    "cv.imshow('Image', img)\n",
    "cv.waitKey(0)\n",
    "cv.destroyAllWindows()"
   ]
  },
  {
   "cell_type": "code",
   "execution_count": null,
   "id": "d63aac1b",
   "metadata": {},
   "outputs": [],
   "source": []
  },
  {
   "cell_type": "code",
   "execution_count": null,
   "id": "854ec63a",
   "metadata": {},
   "outputs": [],
   "source": []
  }
 ],
 "metadata": {
  "kernelspec": {
   "display_name": "Python 3 (ipykernel)",
   "language": "python",
   "name": "python3"
  },
  "language_info": {
   "codemirror_mode": {
    "name": "ipython",
    "version": 3
   },
   "file_extension": ".py",
   "mimetype": "text/x-python",
   "name": "python",
   "nbconvert_exporter": "python",
   "pygments_lexer": "ipython3",
   "version": "3.9.13"
  }
 },
 "nbformat": 4,
 "nbformat_minor": 5
}
